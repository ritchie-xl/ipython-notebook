{
 "cells": [
  {
   "cell_type": "code",
   "execution_count": 6,
   "metadata": {
    "collapsed": false
   },
   "outputs": [],
   "source": [
    "import matplotlib.pyplot as plt\n",
    "from sklearn.ensemble import GradientBoostingClassifier\n",
    "from sklearn import datasets\n",
    "import numpy as np\n",
    "\n",
    "iris = datasets.load_iris()\n",
    "X = iris.data[:,:2]  # we only take the first two features.\n",
    "Y = iris.target\n",
    "\n",
    "# data = np.genfromtxt('data_banknote_authentication.txt',skiprows=1, delimiter=',')\n",
    "# m,n = data.shape\n",
    "# X = data[:,:2]  # we only take the first two features.\n",
    "# Y = data[:,n-1]\n",
    "\n",
    "\n",
    "x_min, x_max = X[:, 0].min() - 1, X[:, 0].max() + 1\n",
    "y_min, y_max = X[:, 1].min() - 1, X[:, 1].max() + 1\n",
    "\n",
    "plt.figure(1, figsize=(24,12))\n",
    "plt.clf()\n",
    "\n",
    "plt.xlim(x_min, x_max)\n",
    "plt.ylim(y_min, y_max)\n",
    "plt.xticks(())\n",
    "plt.yticks(())\n",
    "\n",
    "col = ['r','g','b']\n",
    "    \n",
    "clf=GradientBoostingClassifier(n_estimators = 50, max_depth=5).fit(X,Y)\n",
    "\n",
    "xx, yy = np.meshgrid(np.arange(x_min, x_max, 0.02),\n",
    "                            np.arange(y_min, y_max, 0.02))\n",
    "\n",
    "count_right = lambda x : 1 if x == True else 0\n",
    "m,n = X.shape\n",
    "\n",
    "j = 0\n",
    "a , b = [],[]\n",
    "for Z, R in zip(clf.staged_predict(np.c_[xx.ravel(), yy.ravel()]), clf.staged_predict(X)):\n",
    "    Z = Z.reshape(xx.shape)\n",
    "    \n",
    "    plt.subplot(1, 2, 1)\n",
    "    plt.contourf(xx, yy, Z)\n",
    "    \n",
    "    for  i in range(2):\n",
    "        idx = np.where(Y == i)\n",
    "        plt.scatter(X[idx, 0], X[idx, 1], c=col[i],alpha = 1, s = 40)\n",
    "        \n",
    "    res = (R != Y)\n",
    "    wrong= sum([count_right(x) for x in res])\n",
    "    accuracy = wrong * 1.0 / m\n",
    "\n",
    "    \n",
    "    plt.subplot(1, 2, 2)\n",
    "    plt.xlim(-1,55)\n",
    "    plt.ylim(0, 0.3)\n",
    "    a.append(j)\n",
    "    b.append(accuracy)\n",
    "#     plt.scatter(j,  accuracy)\n",
    "    plt.plot(a,b)\n",
    "    j += 1\n",
    "\n",
    "   \n",
    "    plt.pause(0.1)\n",
    "\n",
    "plt.show()"
   ]
  },
  {
   "cell_type": "code",
   "execution_count": 4,
   "metadata": {
    "collapsed": false
   },
   "outputs": [],
   "source": [
    "plt.plot([1,2,3],[4,5,6])\n",
    "plt.show()"
   ]
  }
 ],
 "metadata": {
  "kernelspec": {
   "display_name": "Python 2",
   "language": "python",
   "name": "python2"
  },
  "language_info": {
   "codemirror_mode": {
    "name": "ipython",
    "version": 2
   },
   "file_extension": ".py",
   "mimetype": "text/x-python",
   "name": "python",
   "nbconvert_exporter": "python",
   "pygments_lexer": "ipython2",
   "version": "2.7.10"
  }
 },
 "nbformat": 4,
 "nbformat_minor": 0
}
