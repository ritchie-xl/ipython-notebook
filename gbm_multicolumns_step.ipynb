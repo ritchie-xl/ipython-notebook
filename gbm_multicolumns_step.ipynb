{
 "cells": [
  {
   "cell_type": "code",
   "execution_count": null,
   "metadata": {
    "collapsed": true
   },
   "outputs": [],
   "source": []
  },
  {
   "cell_type": "code",
   "execution_count": 20,
   "metadata": {
    "collapsed": false
   },
   "outputs": [
    {
     "name": "stdout",
     "output_type": "stream",
     "text": [
      "1.0\n",
      "1.0\n",
      "0.0\n",
      "0.0\n",
      "0.0\n",
      "0.0\n",
      "0.0\n",
      "0.0\n",
      "0.0\n",
      "0.0\n",
      "0.0\n",
      "0.0\n",
      "0.0\n",
      "0.0\n",
      "0.0\n",
      "0.0\n",
      "0.0\n",
      "0.0\n",
      "0.0\n",
      "0.0\n"
     ]
    }
   ],
   "source": [
    "import matplotlib.pyplot as plt\n",
    "from sklearn.ensemble import GradientBoostingClassifier\n",
    "from sklearn import datasets\n",
    "import numpy as np\n",
    "\n",
    "# iris = datasets.load_iris()\n",
    "# m,n = iris.data.shape\n",
    "# X = iris.data[:,:3]  # we only take the first two features.\n",
    "# Y = iris.target\n",
    "\n",
    "data = np.genfromtxt('test_con.csv', delimiter=',',skiprows = 1)\n",
    "m,n = data.shape\n",
    "X = data[:,:n-1]\n",
    "Y = data[:,n-1]\n",
    "\n",
    "x_min, x_max = X[:, 0].min() - 1, X[:, 0].max() + 1\n",
    "y_min, y_max = X[:, 1].min() - 1, X[:, 1].max() + 1\n",
    "z_min, z_max = X[:, 2].min() - 1, X[:, 2].max() + 1\n",
    "a_min, a_max = X[:, 3].min() - 1, X[:, 3].max() + 1\n",
    "\n",
    "plt.figure(2, figsize=(8,6))\n",
    "plt.clf()\n",
    "\n",
    "plt.xlim(x_min, x_max)\n",
    "plt.ylim(y_min, y_max)\n",
    "plt.xticks(())\n",
    "plt.yticks(())\n",
    "\n",
    "col = ['r','g','b']\n",
    "    \n",
    "clf=GradientBoostingClassifier(n_estimators = 20, max_depth=5).fit(X,Y)\n",
    "\n",
    "xx, yy , zz,aa= np.meshgrid(np.arange(x_min, x_max, 0.1),\n",
    "                    np.arange(y_min, y_max, 0.1),\n",
    "                    np.arange(z_min, z_max, 0.1),\n",
    "                    np.arange(a_min, a_max, 0.1))\n",
    "\n",
    "count_right = lambda x : 1 if x == True else 0\n",
    "\n",
    "i = 0\n",
    "# for Z, R in zip(clf.staged_predict(np.c_[xx.ravel(), yy.ravel(),zz.ravel(),aa.ravel()]), clf.staged_predict(X)):\n",
    "for Z, R in zip(clf.staged_predict(np.c_[xx.ravel(), yy.ravel(),zz.ravel(),aa.ravel()]), clf.staged_predict(X)):\n",
    "    Z = Z.reshape(xx.shape)\n",
    "\n",
    "    plt.contourf(xx[:,:,0,0], yy[:,:,0,0], Z[:,:,0,0])\n",
    "#     plt.contourf(xx[0,:,:], yy[0,:,:], Z[0,:,:])\n",
    "    \n",
    "    for  i in range(2):\n",
    "        idx = np.where(Y == i)\n",
    "        plt.scatter(X[idx,0], X[idx,1], c=col[i],alpha = 1, s = 40)\n",
    "        \n",
    "    res = (R != Y)\n",
    "    wrong= sum([count_right(x) for x in res])\n",
    "    accuracy = wrong * 1.0 / n\n",
    "    print accuracy    \n",
    "    plt.pause(0.5)\n",
    "\n",
    "plt.show()"
   ]
  },
  {
   "cell_type": "code",
   "execution_count": null,
   "metadata": {
    "collapsed": true
   },
   "outputs": [],
   "source": []
  },
  {
   "cell_type": "code",
   "execution_count": null,
   "metadata": {
    "collapsed": true
   },
   "outputs": [],
   "source": []
  }
 ],
 "metadata": {
  "kernelspec": {
   "display_name": "Python 2",
   "language": "python",
   "name": "python2"
  },
  "language_info": {
   "codemirror_mode": {
    "name": "ipython",
    "version": 2
   },
   "file_extension": ".py",
   "mimetype": "text/x-python",
   "name": "python",
   "nbconvert_exporter": "python",
   "pygments_lexer": "ipython2",
   "version": "2.7.10"
  }
 },
 "nbformat": 4,
 "nbformat_minor": 0
}
